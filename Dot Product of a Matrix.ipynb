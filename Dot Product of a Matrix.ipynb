{
 "cells": [
  {
   "cell_type": "code",
   "id": "initial_id",
   "metadata": {
    "collapsed": true,
    "ExecuteTime": {
     "end_time": "2024-08-30T16:26:42.586430Z",
     "start_time": "2024-08-30T16:26:42.423660Z"
    }
   },
   "source": "import numpy as np",
   "outputs": [],
   "execution_count": 1
  },
  {
   "metadata": {
    "ExecuteTime": {
     "end_time": "2024-08-30T16:29:36.229430Z",
     "start_time": "2024-08-30T16:29:36.205239Z"
    }
   },
   "cell_type": "code",
   "source": [
    "m1 = np.array([[1, 2, 3], [4, 5, 6]])\n",
    "m2 = np.array([[7, 8, 9], [10, 11, 12], [13, 14, 15]])"
   ],
   "id": "6af14ad26c67230c",
   "outputs": [],
   "execution_count": 4
  },
  {
   "metadata": {
    "ExecuteTime": {
     "end_time": "2024-08-30T16:30:18.465613Z",
     "start_time": "2024-08-30T16:30:18.450612Z"
    }
   },
   "cell_type": "code",
   "source": [
    "#condition: number of columns of matrix1 = number of rows of matrix2\n",
    "np.dot(m1, m2)"
   ],
   "id": "82eecddadbe03a58",
   "outputs": [
    {
     "data": {
      "text/plain": [
       "array([[ 66,  72,  78],\n",
       "       [156, 171, 186]])"
      ]
     },
     "execution_count": 6,
     "metadata": {},
     "output_type": "execute_result"
    }
   ],
   "execution_count": 6
  }
 ],
 "metadata": {
  "kernelspec": {
   "display_name": "Python 3",
   "language": "python",
   "name": "python3"
  },
  "language_info": {
   "codemirror_mode": {
    "name": "ipython",
    "version": 2
   },
   "file_extension": ".py",
   "mimetype": "text/x-python",
   "name": "python",
   "nbconvert_exporter": "python",
   "pygments_lexer": "ipython2",
   "version": "2.7.6"
  }
 },
 "nbformat": 4,
 "nbformat_minor": 5
}
