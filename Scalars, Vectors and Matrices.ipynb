{
 "cells": [
  {
   "cell_type": "code",
   "id": "initial_id",
   "metadata": {
    "collapsed": true,
    "ExecuteTime": {
     "end_time": "2024-08-30T15:25:42.950551Z",
     "start_time": "2024-08-30T15:25:41.606720Z"
    }
   },
   "source": "import numpy as np",
   "outputs": [],
   "execution_count": 1
  },
  {
   "metadata": {},
   "cell_type": "markdown",
   "source": "Scalars:",
   "id": "e09f9cae3d5a55c0"
  },
  {
   "metadata": {
    "ExecuteTime": {
     "end_time": "2024-08-30T15:25:58.309139Z",
     "start_time": "2024-08-30T15:25:58.242983Z"
    }
   },
   "cell_type": "code",
   "source": [
    "s = 5\n",
    "s"
   ],
   "id": "4b75a01366fc4c7",
   "outputs": [
    {
     "data": {
      "text/plain": [
       "5"
      ]
     },
     "execution_count": 2,
     "metadata": {},
     "output_type": "execute_result"
    }
   ],
   "execution_count": 2
  },
  {
   "metadata": {},
   "cell_type": "markdown",
   "source": "Vectors:",
   "id": "62f1943504bf360a"
  },
  {
   "metadata": {
    "ExecuteTime": {
     "end_time": "2024-08-30T15:26:36.281491Z",
     "start_time": "2024-08-30T15:26:36.039408Z"
    }
   },
   "cell_type": "code",
   "source": [
    "v = np.array([5, -2, 4])\n",
    "v"
   ],
   "id": "4f571dfcea2a019d",
   "outputs": [
    {
     "data": {
      "text/plain": [
       "array([ 5, -2,  4])"
      ]
     },
     "execution_count": 3,
     "metadata": {},
     "output_type": "execute_result"
    }
   ],
   "execution_count": 3
  },
  {
   "metadata": {},
   "cell_type": "markdown",
   "source": "Matrices:",
   "id": "21af01d92cb79a02"
  },
  {
   "metadata": {
    "ExecuteTime": {
     "end_time": "2024-08-30T15:30:58.949985Z",
     "start_time": "2024-08-30T15:30:58.939542Z"
    }
   },
   "cell_type": "code",
   "source": [
    "m = np.array([[5, 12, 6], [-3, 0, 14]])\n",
    "m"
   ],
   "id": "72868fc447bbfb3b",
   "outputs": [
    {
     "data": {
      "text/plain": [
       "array([[ 5, 12,  6],\n",
       "       [-3,  0, 14]])"
      ]
     },
     "execution_count": 5,
     "metadata": {},
     "output_type": "execute_result"
    }
   ],
   "execution_count": 5
  },
  {
   "metadata": {},
   "cell_type": "markdown",
   "source": "Data Shapes:",
   "id": "303248dac19a9639"
  },
  {
   "metadata": {
    "ExecuteTime": {
     "end_time": "2024-08-30T15:32:59.276734Z",
     "start_time": "2024-08-30T15:32:59.257459Z"
    }
   },
   "cell_type": "code",
   "source": [
    "#.shape returns dimensions of scalars, vectors and matrices\n",
    "v.shape"
   ],
   "id": "ab8c988379378a53",
   "outputs": [
    {
     "data": {
      "text/plain": [
       "(3,)"
      ]
     },
     "execution_count": 7,
     "metadata": {},
     "output_type": "execute_result"
    }
   ],
   "execution_count": 7
  },
  {
   "metadata": {
    "ExecuteTime": {
     "end_time": "2024-08-30T15:33:10.930760Z",
     "start_time": "2024-08-30T15:33:10.917771Z"
    }
   },
   "cell_type": "code",
   "source": "m.shape",
   "id": "72ba9f367909af6a",
   "outputs": [
    {
     "data": {
      "text/plain": [
       "(2, 3)"
      ]
     },
     "execution_count": 8,
     "metadata": {},
     "output_type": "execute_result"
    }
   ],
   "execution_count": 8
  }
 ],
 "metadata": {
  "kernelspec": {
   "display_name": "Python 3",
   "language": "python",
   "name": "python3"
  },
  "language_info": {
   "codemirror_mode": {
    "name": "ipython",
    "version": 2
   },
   "file_extension": ".py",
   "mimetype": "text/x-python",
   "name": "python",
   "nbconvert_exporter": "python",
   "pygments_lexer": "ipython2",
   "version": "2.7.6"
  }
 },
 "nbformat": 4,
 "nbformat_minor": 5
}
