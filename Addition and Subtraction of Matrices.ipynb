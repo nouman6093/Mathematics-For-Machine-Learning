{
 "cells": [
  {
   "cell_type": "code",
   "id": "initial_id",
   "metadata": {
    "collapsed": true,
    "ExecuteTime": {
     "end_time": "2024-08-30T16:05:36.036033Z",
     "start_time": "2024-08-30T16:05:35.866754Z"
    }
   },
   "source": [
    "#addition and subtraction requires equal number of values in matrices in same order\n",
    "import numpy as np"
   ],
   "outputs": [],
   "execution_count": 1
  },
  {
   "metadata": {
    "ExecuteTime": {
     "end_time": "2024-08-30T16:07:11.933777Z",
     "start_time": "2024-08-30T16:07:11.918405Z"
    }
   },
   "cell_type": "code",
   "source": [
    "m1 = np.array([[1, 2, 3], [4, 5, 6]])\n",
    "m2 = np.array([[7, 8, 9], [10, 11, 12]])"
   ],
   "id": "e88668e3c2adb230",
   "outputs": [],
   "execution_count": 2
  },
  {
   "metadata": {},
   "cell_type": "markdown",
   "source": "Addition of Matrices:",
   "id": "9f0b51cc17769250"
  },
  {
   "metadata": {
    "ExecuteTime": {
     "end_time": "2024-08-30T16:08:27.839375Z",
     "start_time": "2024-08-30T16:08:27.792609Z"
    }
   },
   "cell_type": "code",
   "source": "m1 + m2",
   "id": "147926f3a190cb7b",
   "outputs": [
    {
     "data": {
      "text/plain": [
       "array([[ 8, 10, 12],\n",
       "       [14, 16, 18]])"
      ]
     },
     "execution_count": 3,
     "metadata": {},
     "output_type": "execute_result"
    }
   ],
   "execution_count": 3
  },
  {
   "metadata": {},
   "cell_type": "markdown",
   "source": "Subtraction of Matrices:",
   "id": "f4b13603b313fa55"
  },
  {
   "metadata": {
    "ExecuteTime": {
     "end_time": "2024-08-30T16:08:51.364787Z",
     "start_time": "2024-08-30T16:08:51.333531Z"
    }
   },
   "cell_type": "code",
   "source": "m1 - m2",
   "id": "1c98eb4564860143",
   "outputs": [
    {
     "data": {
      "text/plain": [
       "array([[-6, -6, -6],\n",
       "       [-6, -6, -6]])"
      ]
     },
     "execution_count": 4,
     "metadata": {},
     "output_type": "execute_result"
    }
   ],
   "execution_count": 4
  },
  {
   "metadata": {
    "ExecuteTime": {
     "end_time": "2024-08-30T16:09:23.135623Z",
     "start_time": "2024-08-30T16:09:23.120006Z"
    }
   },
   "cell_type": "code",
   "source": [
    "v1 = np.array([1, 2, 3])\n",
    "v2 = np.array([4, 5, 6])"
   ],
   "id": "8919b5ff86246908",
   "outputs": [],
   "execution_count": 5
  },
  {
   "metadata": {},
   "cell_type": "markdown",
   "source": "Addition of Vectors:",
   "id": "822644d59e9e8b66"
  },
  {
   "metadata": {
    "ExecuteTime": {
     "end_time": "2024-08-30T16:09:39.137121Z",
     "start_time": "2024-08-30T16:09:39.105870Z"
    }
   },
   "cell_type": "code",
   "source": "v1 + v2",
   "id": "639914575ea671f6",
   "outputs": [
    {
     "data": {
      "text/plain": [
       "array([5, 7, 9])"
      ]
     },
     "execution_count": 6,
     "metadata": {},
     "output_type": "execute_result"
    }
   ],
   "execution_count": 6
  },
  {
   "metadata": {},
   "cell_type": "markdown",
   "source": "Subtraction of Vectors:",
   "id": "8552ebfc9aa98d5d"
  },
  {
   "metadata": {
    "ExecuteTime": {
     "end_time": "2024-08-30T16:09:55.374102Z",
     "start_time": "2024-08-30T16:09:55.342853Z"
    }
   },
   "cell_type": "code",
   "source": "v1 - v2",
   "id": "155ce124b2e0c7e5",
   "outputs": [
    {
     "data": {
      "text/plain": [
       "array([-3, -3, -3])"
      ]
     },
     "execution_count": 7,
     "metadata": {},
     "output_type": "execute_result"
    }
   ],
   "execution_count": 7
  }
 ],
 "metadata": {
  "kernelspec": {
   "display_name": "Python 3",
   "language": "python",
   "name": "python3"
  },
  "language_info": {
   "codemirror_mode": {
    "name": "ipython",
    "version": 2
   },
   "file_extension": ".py",
   "mimetype": "text/x-python",
   "name": "python",
   "nbconvert_exporter": "python",
   "pygments_lexer": "ipython2",
   "version": "2.7.6"
  }
 },
 "nbformat": 4,
 "nbformat_minor": 5
}
